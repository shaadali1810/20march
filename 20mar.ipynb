{
 "cells": [
  {
   "cell_type": "code",
   "execution_count": 1,
   "id": "e709cda1-a677-4b6d-b28c-5a6f5e2e5643",
   "metadata": {},
   "outputs": [],
   "source": [
    "#! Data encoding is the process of converting data or a sequence of characters, symbols, or alphabets into a specified format for the secured transmission of data.2 It is important in data science as it allows for the easy fitting of categorical variables into numerical values for machine learning models.0 Categorical data encoding involves converting categorical data into integer format so that the data with converted categorical values can be provided to different models.1 Decoding is the reverse process of encoding, which is to extract the information from the converted format."
   ]
  },
  {
   "cell_type": "code",
   "execution_count": 2,
   "id": "7cbd3b4f-7fd2-483f-b771-3cdc60e080e6",
   "metadata": {},
   "outputs": [],
   "source": [
    "#2  Nominal data is a type of qualitative data which groups variables into categories. You can think of these categories as nouns or labels; they are purely descriptive, they don’t have any quantitative or numeric value, and the various categories cannot be placed into any kind of meaningful order or hierarchy.\n",
    "\n",
    "#At this point, it’s important to note that nominal variables may be represented by numbers as well as words—however, these “number labels” don’t have any kind of numeric meaning. To illustrate this with an example, let’s imagine you’re collecting data on people’s hair color. You might use a numbering system to denote the different hair colors: say, 1 to represent brown hair, 2 to represent blonde hair, 3 for black hair, 4 for auburn hair, 5 for gray hair, and so on.\n",
    "\n",
    "#Although you are using numbers to label each category, these numbers do not represent any kind of value or hierarchy (e.g. gray hair as represented by the number 5 is not “greater than” or “better than” brown hair represented by the number 1, and vice versa).\n",
    "\n",
    "#As such, nominal data is the simplest, least precise level of measurement. You can identify nominal data according to the following characteristics."
   ]
  },
  {
   "cell_type": "code",
   "execution_count": 3,
   "id": "ec5410ff-2f45-4a2e-aa30-c2723aa737fa",
   "metadata": {},
   "outputs": [],
   "source": [
    "#3One hot encoding is one method of converting data to prepare it for an algorithm and get a better prediction. With one-hot, we convert each categorical value into a new categorical column and assign a binary value of 1 or 0 to those columns. Each integer value is represented as a binary vector. All the values are zero, and the index is marked with a 1.\n",
    "#Let’s apply this to an example. Say we have the values red and blue. With one-hot, we would assign red with a numeric value of 0 and blue with a numeric value of 1."
   ]
  },
  {
   "cell_type": "code",
   "execution_count": 4,
   "id": "e69cfe57-f058-4013-ba4b-4d9198592634",
   "metadata": {},
   "outputs": [],
   "source": [
    "#4 one hot encoing is used in thus machine learning algorithms beacuse in this dataset contains 5 unique value of categorical data"
   ]
  },
  {
   "cell_type": "code",
   "execution_count": 5,
   "id": "dfc46d35-1b34-4611-b5c5-2303221c20d9",
   "metadata": {},
   "outputs": [],
   "source": [
    "#5 r ow = 1000,columns = 2 , r*c = 2000, #"
   ]
  },
  {
   "cell_type": "code",
   "execution_count": 6,
   "id": "b687fb9b-0177-40b4-a1ea-3891e75b0c4f",
   "metadata": {},
   "outputs": [],
   "source": [
    "# one hot encoding technique is preferred to large categorical data that why one hoter encoding is prefeered to this type of large dataset"
   ]
  },
  {
   "cell_type": "code",
   "execution_count": null,
   "id": "56a78e63-6ef5-41f7-a157-506eb34c6c0a",
   "metadata": {},
   "outputs": [],
   "source": [
    "#7 first from sklearn.preprocessing import onehote encoder\n",
    " then import pandas as pd\n",
    "    in third step convert the these 5 dataset convert into dataframes\n",
    "    then make a variable enoder = onehotcoder\n",
    "    then fit and transform these dataset into onehotencoder\n",
    "    in the last step we transform these "
   ]
  }
 ],
 "metadata": {
  "kernelspec": {
   "display_name": "Python 3 (ipykernel)",
   "language": "python",
   "name": "python3"
  },
  "language_info": {
   "codemirror_mode": {
    "name": "ipython",
    "version": 3
   },
   "file_extension": ".py",
   "mimetype": "text/x-python",
   "name": "python",
   "nbconvert_exporter": "python",
   "pygments_lexer": "ipython3",
   "version": "3.10.8"
  }
 },
 "nbformat": 4,
 "nbformat_minor": 5
}
